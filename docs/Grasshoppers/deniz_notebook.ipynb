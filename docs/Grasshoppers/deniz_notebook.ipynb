{
 "cells": [
  {
   "cell_type": "markdown",
   "metadata": {},
   "source": [
    "## OpenScience Notebook\n",
    "\n",
    "   [OPEN SCIENCE JUST SCIENCE DONE RIGHT](https://doi.org/10.5281/zenodo.1285575)"
   ]
  },
  {
   "cell_type": "markdown",
   "metadata": {},
   "source": [
    "**1. 24.03.2021 - Introduction to Open Science**\n",
    "\n",
    "**2. 28.03.2021 - Writing a research abstract**\n",
    "\n",
    "**3. 03.04.2021 - Data Management Plan First Version**"
   ]
  },
  {
   "cell_type": "markdown",
   "metadata": {},
   "source": [
    "## 1) 24.03.2021 - Introduction to Open Science\n",
    "\n",
    "\n",
    "On the first day, a few articles on the reference list presented in the first lesson of the Open Science course were read. I found the [article](https://doi.org/10.1511/2019.107.2.78) very useful, arguing that in order to truly achieve the transformative vision of open science, it must be universally accessible. An accessible open science serves everyone. So all people can access the science dialogue. \n",
    "\n",
    "After a general introduction I did research on DOI and Crossref. First I discovered how useful and unique it offers a set of functions.\n",
    "\n",
    "The DOI handbook suggested by Arcangelo Massari, helped me research about DOI features.\n",
    "\n",
    "#### A few DOI features I learned from DOI handbook:\n",
    "\n",
    "-Persistence, if material is moved, rearranged, or bookmarked;\n",
    "-Interoperability with other data from other sources;\n",
    "-Extensibility by adding new features and services through management of groups of DOI names;\n",
    "-Single management of data for multiple output formats (platform independence);\n",
    "-Class management of applications and services."
   ]
  },
  {
   "cell_type": "markdown",
   "metadata": {},
   "source": [
    "## 2) 28.03.2021 - Writing a research abstract\n",
    "\n",
    "Me and my colleagues arranged a meeting on teams. The purpose of the interview was to write an abstract for \"What are the classes of errors that characterised invalid DOIs? Which classes of errors can be addressed through automatic processes so as to get the correct DOIs? How many correct DOIs and, consequently, citations have been obtained by applying such automatic processing?\" research question.\n",
    "\n",
    "Here are the basic things we need to pay attention to. We followed the template proposed by Emerald Publishing to sketch the structured abstract, and uploaded a first version of it in our GitHub folder in a file named “abstract.md”\n",
    "\n",
    "#### Our First Abstract: \n",
    "\n",
    "#### Purpose\n",
    "\n",
    "The purpose of this work is to find an automated process to repair invalid DOIs that have been collected by the OpenCitations Index Of Crossref Open DOI-To-DOI References (COCI) while processing data provided by Crossref.\n",
    "\n",
    "#### Design/methodology/approach\n",
    "\n",
    "The data needed for this work is provided by COCI as a CSV list containing invalid cited DOIs. With the goal to determine an automated process, we first need to classify the errors that characterize the wrong DOIs in the list. Our starting hypothesis is that there are two main classes of errors: factual errors, such as wrong characters, and DOIs that are not yet valid at the time of processing. The first class can be furtherly divided into errors due to forbidden characters, such as whitespaces, errors due to irrelevant strings added to the beginning or end of the correct DOI, or human-made errors. Once the classes of errors are addressed, we propose automatic processes to obtain correct DOIs from wrong ones. These processes involve the use of structured and unstructured information returned from DOI and Crossref APIs, as well as rule-based methods to correct invalid DOIs.\n",
    "\n",
    "#### Findings\n",
    "\n",
    "For the DOIs containing factual errors, we were able to find automated processes to correct the errors belonging to different subclasses. In the end of our work, we are going to estimate how many correct DOIs and, therefore, citations are obtained.\n",
    "\n",
    "#### Research limitations/implications\n",
    "\n",
    "There will always remain DOIs that cannot be made valid using automatic processes. In these cases, it is important to find the publishers responsible for the incorrect references, which is done in another related project. An important part of our work will consist of discussing possible drawbacks of our methods and further developments that can be made.\n",
    "\n",
    "#### Originality/value\n",
    "\n",
    "Trying to make reference lists of scientific works accessible to the public, the COCI project contributes to the open science movement. In this global movement towards openness in scientific research, the accountability and transparency of scientific enterprise are fundamental. By trying to improve the data quality in COCI, our work can be useful not only for COCI, but in a broader sense also for the open science movement and related research in the future.\n",
    "\n",
    "#### Keywords: Open Access, I4OC, OpenCitations, citations, DOI, Crossref, COCI, data quality\n",
    "\n",
    "\n",
    "As mentioned in the abstract, my colleagues developed a first hypothesis on how to deal with both classes of errors. Their findings and hypotheses enabled me to enlighten on the subject."
   ]
  },
  {
   "cell_type": "markdown",
   "metadata": {},
   "source": [
    "## 3) 03.04.2021 - Data Management Plan First Version"
   ]
  },
  {
   "cell_type": "markdown",
   "metadata": {},
   "source": [
    "I learned that the data management plan is the document that explains how the data to be used by the researcher before starting a new research will be managed during the study and after the study, in other words, how each step in the data life cycle will be carried out. And we gathered with my group friends to create our first ***Data Managemant Plan*** using the ARGOS platform by OpenAIRE and EUDAT. We created the first version, focusing on FAIR principles and the way we work.\n",
    "\n",
    "[Classes of errors in DOI names](https://doi.org/10.5281/zenodo.4665853)"
   ]
  }
 ],
 "metadata": {
  "kernelspec": {
   "display_name": "Python 3",
   "language": "python",
   "name": "python3"
  },
  "language_info": {
   "codemirror_mode": {
    "name": "ipython",
    "version": 3
   },
   "file_extension": ".py",
   "mimetype": "text/x-python",
   "name": "python",
   "nbconvert_exporter": "python",
   "pygments_lexer": "ipython3",
   "version": "3.9.0"
  }
 },
 "nbformat": 4,
 "nbformat_minor": 4
}
