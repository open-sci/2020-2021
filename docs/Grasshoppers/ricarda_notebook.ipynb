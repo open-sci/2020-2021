{
 "cells": [
  {
   "cell_type": "markdown",
   "metadata": {},
   "source": [
    "## 28.3.2021 ##\n",
    "### First draft of abstract ###\n",
    "In our first meeting with the group, we discussed about the topic and created a first draft of our abstract.\n",
    "For this, everyone wrote a draft and we combined our results in the end."
   ]
  },
  {
   "cell_type": "markdown",
   "metadata": {},
   "source": [
    "## 29.3.2021 ##\n",
    "### Revision of abstract ###\n",
    "In order to comply with the structure shown in https://www.emerald.com/insight/content/doi/10.1108/JD-02-2020-0030/full/html, I revised and restructured our abstract and uploaded the new version the next day, after the other group members agreed with the text."
   ]
  },
  {
   "cell_type": "markdown",
   "metadata": {},
   "source": [
    "## 3.4.2021 ##\n",
    "### First draft of Data Management Plan (DMP) ###\n",
    "In a group meeting, we created a DMP on the platform Argos (https://argos.openaire.eu/) and divided the further work on it (the description of the two datasets) between us."
   ]
  },
  {
   "cell_type": "markdown",
   "metadata": {},
   "source": [
    "## 4.4.2021 ##\n",
    "### Adding small parts to DMP ###\n",
    "I concentrated on the parts 6 and 7 of the datasets. When we were all done with our part of the work, we created the first version of our DMP: https://doi.org/10.5281/zenodo.4663016"
   ]
  },
  {
   "cell_type": "markdown",
   "metadata": {},
   "source": [
    "## 6.4.2021 ##\n",
    "### Revising first version of DMP ###\n",
    "Reading the first version of our DMP, I noticed some issues that we revised and updated, creating this version: https://doi.org/10.5281/zenodo.4665853"
   ]
  },
  {
   "cell_type": "markdown",
   "metadata": {},
   "source": [
    "## 10.4.2021 ##\n",
    "### Literature review ###\n",
    "Based on a Google Scholar search with the keywords \"wrong doi\" \"invalid doi\" and \"doi error\", I started with the literature review for the project. I continued the search following the cited references that seemed to contain information about error classes occuring in DOI names and (automatic) methods for fixing and cleaning the DOIs. Especially Xu, S., Hao, L., An, X. et al. Types of DOI errors of cited references in Web of Science with a cleaning method. Scientometrics 120, 1427–1437 (2019). https://doi.org/10.1007/s11192-019-03162-4 (which we already found before) seems to be useful."
   ]
  }
 ],
 "metadata": {
  "kernelspec": {
   "display_name": "Python 3",
   "language": "python",
   "name": "python3"
  },
  "language_info": {
   "codemirror_mode": {
    "name": "ipython",
    "version": 3
   },
   "file_extension": ".py",
   "mimetype": "text/x-python",
   "name": "python",
   "nbconvert_exporter": "python",
   "pygments_lexer": "ipython3",
   "version": "3.7.6"
  }
 },
 "nbformat": 4,
 "nbformat_minor": 4
}
