{
  "nbformat": 4,
  "nbformat_minor": 0,
  "metadata": {
    "colab": {
      "name": "open-sci-notebook.ipynb",
      "provenance": [],
      "collapsed_sections": [],
      "toc_visible": true
    },
    "kernelspec": {
      "name": "python3",
      "display_name": "Python 3"
    },
    "language_info": {
      "name": "python"
    }
  },
  "cells": [
    {
      "cell_type": "markdown",
      "metadata": {
        "id": "SeK0ebfNr_iH"
      },
      "source": [
        "# 28 - 03 - 2021\n",
        "## First draft of our abstract\n",
        "\n",
        "In our first meeting with the group, we discussed about the topic and created a first draft of our abstract. For this, everyone wrote a draft and we combined our results in the end."
      ]
    },
    {
      "cell_type": "markdown",
      "metadata": {
        "id": "C4ok0HmEzgPf"
      },
      "source": [
        "# 30 - 03 - 2021\n",
        "## Preliminary Analysis: exploring the classes of errors\n",
        "I started to carry some preliminary analysis, in order to butter understand the problem that we need to tackle in our research question. The dataset that we need to use to solve our problem is provided by Silvio Peroni under public license at http://doi.org/10.5281/zenodo.4625300. This dataset contains a two-column CSV file, where the first column (\"Valid_citing_DOI\") contains the DOI of a citing entity retrieved in Crossref, while the second column (\"Invalid_cited_DOI\") contains the invalid DOI of a cited entity identified by looking at the field \"reference\" in the JSON document returned by querying the [Crossref API](https://www.crossref.org/education/retrieve-metadata/rest-api/) with the citing DOI. <br />\n",
        "Among the column containing invalid cited DOIs I noticed some first general classes of errors that invalid the identifier:<br />\n",
        "* **DOIs containing additional URLs:**\n",
        "  1. 10.1016/j.aca.2006.07.086.http://dx.doi.org/10.1016/j.aca.2006.07.086 → 10.1016/j.aca.2006.07.086\n",
        "  2. “10.1186/1735-2746-10-21,http://www.ijehse.com/content/10/1/21\" → 10.1186/1735-2746-10-21\n",
        "* **Extra characters at the end:**\n",
        "  1. 10.1061/9780784480502.018] →  10.1061/9780784480502.018\n",
        "  2. 10.1044/1092-4388(2012/11-0316)a →  10.1044/1092-4388(2012/11-0316)\n",
        "* **Extra strings at the end:** \n",
        "  1. 10.1111/j.1099-0860.1997.tb00004.x/abstract> → 10.1111/j.1099-0860.1997.tb00004.x\n",
        "  2. 10.4103/0975-�-7406.163460>accessed8 →  10.4103/0975-7406.163460\n",
        "  3. 10.1007/s10706-019-01181-9(0123456789 → 10.1007/s10706-019-01181-9\n",
        "* **DOIs with wrongly encoded HTML entities:**\n",
        "  1. 10.1379/1466-1268(1997)002lt;0162:tmethi>2.3.co;2 → 10.1379/1466-1268(1997)002<0162:tmethi>2.3.co;2\n",
        "\n",
        "Arcangelo noticed that some **DOIs contain queries to proxy servers or characters forbidden in URLs:**\n",
        "  1. 10.2307/2491102?uid=37380728uid=20uid=40sid=4102564553863 → 10.2307/2491102\n",
        "  2. 10.1016/j.envexpbot.2013.10.018#doilink → 10.1016/j.envexpbot.2013.10.018\n",
        "\n",
        "\n",
        "\n"
      ]
    },
    {
      "cell_type": "markdown",
      "metadata": {
        "id": "SGrqBwAhsQ9Y"
      },
      "source": [
        "# 03 - 04 - 2021\n",
        "## First draft of Data Management Plan (DMP)\n",
        "In a group meeting, we created a DMP on the platform Argos (https://argos.openaire.eu/) and divided the further work on it (the description of the two datasets) between us.\n",
        "For the DMP, I focused on part **1: Data Summary** and **2: Reusable Data** of the dataset containing the source code used to clean a CSV list of invalid DOI names."
      ]
    },
    {
      "cell_type": "markdown",
      "metadata": {
        "id": "hpvZM_h43QSZ"
      },
      "source": [
        "# 07 - 04 - 2021\n",
        "## First bites of code: Counting the invalid DOI-to-DOI citations in the CSV\n",
        "\n",
        "I started to carry some preliminary computations on our data, by counting how many pair of invalid DOI-to-DOI citations are in the CSV that we use as input data."
      ]
    },
    {
      "cell_type": "code",
      "metadata": {
        "colab": {
          "base_uri": "https://localhost:8080/"
        },
        "id": "0HGrrK8uvVwz",
        "outputId": "c47167c2-8553-46ec-e98c-385048b7a982"
      },
      "source": [
        "!wget https://zenodo.org/record/4625300/files/invalid_dois.csv\n",
        "\n",
        "# if you are running this notebook locally on Windows 10 use:\n",
        "# pip install wget\n",
        "# !python -m wget https://zenodo.org/record/4625300/files/invalid_dois.csv"
      ],
      "execution_count": 4,
      "outputs": [
        {
          "output_type": "stream",
          "text": [
            "--2021-04-09 13:11:48--  https://zenodo.org/record/4625300/files/invalid_dois.csv\n",
            "Resolving zenodo.org (zenodo.org)... 137.138.76.77\n",
            "Connecting to zenodo.org (zenodo.org)|137.138.76.77|:443... connected.\n",
            "HTTP request sent, awaiting response... 200 OK\n",
            "Length: 64233224 (61M) [text/plain]\n",
            "Saving to: ‘invalid_dois.csv’\n",
            "\n",
            "invalid_dois.csv    100%[===================>]  61.26M  17.2MB/s    in 4.7s    \n",
            "\n",
            "2021-04-09 13:11:54 (12.9 MB/s) - ‘invalid_dois.csv’ saved [64233224/64233224]\n",
            "\n"
          ],
          "name": "stdout"
        }
      ]
    },
    {
      "cell_type": "code",
      "metadata": {
        "colab": {
          "base_uri": "https://localhost:8080/"
        },
        "id": "WuKGIHIg1MLX",
        "outputId": "f506fdab-2840-46b6-de0f-205f98b73621"
      },
      "source": [
        "from csv import reader\n",
        "\n",
        "f = reader(open('invalid_dois.csv'))\n",
        "header = next(f)\n",
        "input_list = [(doi1, doi2) for (doi1, doi2) in f]\n",
        "print(input_list[:50])"
      ],
      "execution_count": 5,
      "outputs": [
        {
          "output_type": "stream",
          "text": [
            "[('10.14778/1920841.1920954', '10.5555/646836.708343'), ('10.5406/ethnomusicology.59.2.0202', '10.2307/20184517'), ('10.1161/01.cir.63.6.1391', '10.1161/circ.37.4.509'), ('10.1177/1179546820918903', '10.3748/wjg.v10.i5.707.'), ('10.1080/10410236.2020.1731937', '10.1070/10810730903528033'), ('10.1161/strokeaha.112.652065', '10.1161/str.24.7.8322400'), ('10.1177/1049732310393747', '10.1111/j.545-5300.2003.42208.x'), ('10.1155/2017/1491405', '10.3760/cma.j.issn.0366-6999.20131202'), ('10.1161/01.res.68.6.1549', '10.1161/res.35.2.159'), ('10.4018/978-1-5225-2650-6.ch006', '10.1002/per'), ('10.1145/2525314.2594229', '10.5555/1873601.1873616'), ('10.1007/s10619-020-07320-z', '10.3390/sym11070911www.mdpi.com/journal/symmetry'), ('10.1007/s11771-020-4410-2', '10.13745/j.esf.2016.02.011'), ('10.1161/01.cir.102.5.591', '10.1161/circ.85.3.1537115'), ('10.1007/s40617-018-00299-1', '10.1901/jaba.2012.45-657'), ('10.1074/jbc.m508416200', '10.1059/0003-4819-100-4-483'), ('10.1177/2054358119836124', '10.1016/j.amepre.2015.07.017.'), ('10.1002/2014jd022782', '10.1016/j.atmosenv.2008.0305'), ('10.1161/01.cir.97.6.553', '10.1161/circ.66.1.7083497'), ('10.1080/13642537.2013.849275', '10.1080/1364253032000157166'), ('10.1161/01.str.0000057812.51734.ff', '10.1161/str.23.11.1440702'), ('10.1007/978-3-319-78030-6_47', '10.1186/s12933-015-0183-6.'), ('10.1177/1754073918765660', '10.1037/0021–9010.93.3.602'), ('10.1177/0312896217726836', '10.1177/0312896216656720.'), ('10.1145/3313276.3316328', '10.5555/2133036.2133123'), ('10.1145/2834050.2834111', '10.5555/2442626.2442634'), ('10.1145/2939918.2939934', '10.5555/1785594.1785635'), ('10.1161/01.hyp.29.6.1278', '10.1161/res.59.2.2874900'), ('10.1007/s10961-016-9510-7', '10.1002/smj'), ('10.1161/circep.110.954636', '10.1161/res.89.12.1216'), ('10.1177/1179069518824125', '10.3390/brainsci7120164.'), ('10.1145/2835776.2835780', '10.5555/944919.944937'), ('10.1145/3190617', '10.1145/2838344.2856460'), ('10.3389/fpsyg.2016.01919', '10.1177/0890117116661982.'), ('10.1161/01.cir.80.2.285', '10.1161/circ.39.1.48'), ('10.1007/s00415-020-09705-7', '10.1101/390815v1'), ('10.1080/15374416.2014.940623', '10.1111/j.1741–3737.2005.00191.x'), ('10.1161/01.str.25.3.663', '10.1161/str.24.2.7678472'), ('10.1177/0959683617721334', '10.1177/0959683616683260.'), ('10.1007/978-4-431-54391-6_7', '10.5475/geologija.2005.011'), ('10.1161/01.atv.19.1.122', '10.1161/circ.91.9.2488'), ('10.1039/c0cc02213f', '10.1016/j.jpowersour.2010.06.096'), ('10.1111/j.1467-9272.2006.00573_2.x', '10.1111/j.0033-0124.1995.458_h.x'), ('10.4018/ijsda.2013070105', '10.1016/0305-0483(80)90061-4]'), ('10.1016/j.enzmictec.2016.04.004', '10.15376/biores.3.3.929-980'), ('10.1007/s12182-019-00423-y', '10.1190/1.18931.4'), ('10.1161/01.str.0000229878.93759.a2', '10.1161/str.28.6.1185'), ('10.2478/s11696-009-0027-5', '10.1016/j.aca.2006.07.086.http://dx.doi.org/10.1016/j.aca.2006.07.086'), ('10.1161/01.cir.0000125742.65841.8b', '10.1161/circ.97.12.1114'), ('10.1161/01.str.0000095791.85737.65', '10.1161/str.31.9.2055')]\n"
          ],
          "name": "stdout"
        }
      ]
    },
    {
      "cell_type": "code",
      "metadata": {
        "colab": {
          "base_uri": "https://localhost:8080/"
        },
        "id": "nmynn-Js3g09",
        "outputId": "b368b3f4-e46f-443d-971a-0064f3c70db4"
      },
      "source": [
        "print(len(input_list))"
      ],
      "execution_count": 6,
      "outputs": [
        {
          "output_type": "stream",
          "text": [
            "1223296\n"
          ],
          "name": "stdout"
        }
      ]
    },
    {
      "cell_type": "code",
      "metadata": {
        "colab": {
          "base_uri": "https://localhost:8080/"
        },
        "id": "x72XyvF925P-",
        "outputId": "e71186dd-e1c8-4712-f137-d91ab812caef"
      },
      "source": [
        "invalid_dois = list(zip(*input_list))[1]\n",
        "print(invalid_dois[:50])"
      ],
      "execution_count": 7,
      "outputs": [
        {
          "output_type": "stream",
          "text": [
            "('10.5555/646836.708343', '10.2307/20184517', '10.1161/circ.37.4.509', '10.3748/wjg.v10.i5.707.', '10.1070/10810730903528033', '10.1161/str.24.7.8322400', '10.1111/j.545-5300.2003.42208.x', '10.3760/cma.j.issn.0366-6999.20131202', '10.1161/res.35.2.159', '10.1002/per', '10.5555/1873601.1873616', '10.3390/sym11070911www.mdpi.com/journal/symmetry', '10.13745/j.esf.2016.02.011', '10.1161/circ.85.3.1537115', '10.1901/jaba.2012.45-657', '10.1059/0003-4819-100-4-483', '10.1016/j.amepre.2015.07.017.', '10.1016/j.atmosenv.2008.0305', '10.1161/circ.66.1.7083497', '10.1080/1364253032000157166', '10.1161/str.23.11.1440702', '10.1186/s12933-015-0183-6.', '10.1037/0021–9010.93.3.602', '10.1177/0312896216656720.', '10.5555/2133036.2133123', '10.5555/2442626.2442634', '10.5555/1785594.1785635', '10.1161/res.59.2.2874900', '10.1002/smj', '10.1161/res.89.12.1216', '10.3390/brainsci7120164.', '10.5555/944919.944937', '10.1145/2838344.2856460', '10.1177/0890117116661982.', '10.1161/circ.39.1.48', '10.1101/390815v1', '10.1111/j.1741–3737.2005.00191.x', '10.1161/str.24.2.7678472', '10.1177/0959683616683260.', '10.5475/geologija.2005.011', '10.1161/circ.91.9.2488', '10.1016/j.jpowersour.2010.06.096', '10.1111/j.0033-0124.1995.458_h.x', '10.1016/0305-0483(80)90061-4]', '10.15376/biores.3.3.929-980', '10.1190/1.18931.4', '10.1161/str.28.6.1185', '10.1016/j.aca.2006.07.086.http://dx.doi.org/10.1016/j.aca.2006.07.086', '10.1161/circ.97.12.1114', '10.1161/str.31.9.2055')\n"
          ],
          "name": "stdout"
        }
      ]
    },
    {
      "cell_type": "markdown",
      "metadata": {
        "id": "hJ55ZrLx5Tww"
      },
      "source": [
        "#09 - 04 - 2021\n",
        "## Useful References\n",
        "\n",
        "Here I will list the useful references that I found in order to carry a **literature review**:\n",
        "\n",
        "1. Xu, S., Hao, L., An, X. et al. Types of DOI errors of cited references in Web of Science with a cleaning method. Scientometrics 120, 1427–1437 (2019). https://doi.org/10.1007/s11192-019-03162-4\n",
        "2. Zhu, J., Hu, G. & Liu, W. DOI errors and possible solutions for Web of Science. Scientometrics 118, 709–718 (2019). https://doi.org/10.1007/s11192-018-2980-7 \n",
        "3. Franceschini, F., Maisano, D., & Mastrogiacomo, L. (2015). Errors in DOI indexing by bibliometric databases. Scientometrics, 102(3), 2181–2186. https://doi.org/10.1007/s11192-014-1503-4.\n",
        "\n",
        "\n",
        "\n"
      ]
    }
  ]
}