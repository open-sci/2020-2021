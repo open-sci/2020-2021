{
 "cells": [
  {
   "cell_type": "markdown",
   "source": [
    "# Open Science Project Diary"
   ],
   "metadata": {
    "collapsed": false
   }
  },
  {
   "cell_type": "markdown",
   "source": [
    "## Table of Contents\n",
    "\n",
    "1. [Getting to Know the Research Questions (25/03/2021)](#entry_1)\n",
    "2. [Writing the Abstract (30/03/2021)](#entry_2)\n",
    "3. [Creating the Project Management Plan (01/04/2021 -- 07/04/2021)](#entry_3)\n",
    "4. [Creating Jupyter Notebooks and Revising the DMP (10/04/2021)](#entry_4)\n",
    "5. [Bibliographic Research (11/04/2021 -- 13/04/2021)](#entry_5)\n",
    "6. [Crossref API Service querying and collegial discussion on further data management (11/04/2021 -- 13/04/2021)](#entry_6)\n",
    "7. [Preliminary studies on publications about protocols (11/04/2021 -- 13/04/2021)](#entry_7)\n",
    "8. [Protocol creation (13/04/2021)](#entry_8)\n",
    "9. [DMP review (16/04/2021 -- 20/04/2021)](#entry_9)"
   ],
   "metadata": {
    "collapsed": false
   }
  },
  {
   "cell_type": "markdown",
   "source": [
    "## Getting to Know the Research Questions (25/03/2021) <a class=\"anchor\" id=\"entry_1\"></a>\n",
    "\n",
    "\n",
    "We studied the two offered research questions, and after discussing among ourselves in our WhatsApp group and with the other group, we chose to do the one about investigating the sources of the missing citations and the related publishers sending and receiving invalid citation data."
   ],
   "metadata": {
    "collapsed": false
   }
  },
  {
   "cell_type": "markdown",
   "source": [
    "## Writing the Abstract (30/03/2021) <a class=\"anchor\" id=\"entry_2\"></a>\n",
    "\n",
    "After reviewing the slides and getting to know the OpenCitations project a little more, and learning the correct way to write a project abstract from [the guide from Emerald publishing offered in the course slides](https://www.emeraldgrouppublishing.com/how-to/authoring-editing-reviewing/write-article-abstract), we commenced writing the abstract for our project, which can be found [here](https://github.com/open-sci/2020-2021/blob/master/docs/TheLeftovers20/abstract.md). It was a challenging step, because we had to think about our project consciously and meticulously before having started getting our hands dirty."
   ],
   "metadata": {
    "collapsed": false
   }
  },
  {
   "cell_type": "markdown",
   "source": [
    "## Creating the Project Management Plan (01/04/2021 -- 07/04/2021) <a class=\"anchor\" id=\"entry_3\"></a>\n",
    "\n",
    "During and after the class of 01/04/2021 (some of us were not present during the final hour because of a previously set exam) we created ORCID IDs for the group members. Afterwards, in the days preceding the lesson of the 8th, we created the Data Management Plan using the [OpenAIRE Argos Website](http://argos.openaire.eu/). We wrote the main explanations of the project all together in a group video call, and divided ourselves into two groups for inserting the data for each dataset. Arianna and I put in the data for the dataset relating to the output data (titled _Missing Citations in COCI_). We all read some data on lesser-known fields to us such as licenses during the video call together.\n",
    "\n",
    "We then uploaded it to [Zenodo](https://zenodo.org/record/4671487) in PDF, JSON, and XML formats.\n"
   ],
   "metadata": {
    "collapsed": false
   }
  },
  {
   "cell_type": "markdown",
   "source": [
    "## Creating Jupyter Notebooks and Revising the DMP (10/04/2021) <a class=\"anchor\" id=\"entry_4\"></a>\n",
    "\n",
    "\n",
    "After the clarifications made in the 8 April class, we started our individual Jupyter Notebooks (almost identical up to this point since we did everything together, but not necessarily so in the future) in a diary format and also we updated the FAIR part of the DMP based on our new knowledge of the metadata solutions available in Zenodo. Now we have a [new version of the DMP](https://doi.org/10.5281/zenodo.4704464). We also divided in two groups to carry out two different tasks: the bibliographic research (me and Alessia) and the analysis of COCI software (Arianna and Nooshin) in order to have a complete overview on what to write in the protocol."
   ],
   "metadata": {
    "collapsed": false
   }
  },
  {
   "cell_type": "markdown",
   "source": [
    "## Bibliographic Research (11/04/2021 -- 13/04/2021) <a class=\"anchor\" id=\"entry_5\"></a>\n",
    "\n",
    "To better understand the methodology we will have to implement and the steps to follow, me and Alessia looked for literature either about the same domain of COCI or regarding steps that we consider necessary to carry out the tasks of our project, even if applied to different domains.\n",
    "\n",
    "Firstly, I tried to better analyze the research question and its sub-parts, in order to have a better idea on how we can answer it, identifying the possible proceeding so to find relevant papers.\n",
    "\n",
    "The selected resources can be divided in two main groups:\n",
    "\n",
    "1. BIBLIOGRAPHY ON OPENCITATIONS AND SIMILAR PROJECTS\n",
    " - Martín-Martín, A., Thelwall, M., Orduna-Malea, E. et al. Google Scholar, Microsoft Academic, Scopus, Dimensions, Web of Science, and OpenCitations’ COCI: a multidisciplinary comparison of coverage via citations. Scientometrics 126, 871–906 (2021). https://doi.org/10.1007/s11192-020-03690-4.\n",
    " - Garcia A, Lopez F, Garcia L, Giraldo O, Bucheli V, Dumontier M. 2018. Biotea: semantics for Pubmed Central. PeerJ 6:e4201 https://doi.org/10.7717/peerj.4201.\n",
    " - Bagnacani A., Ciancarini P., Di Iorio A., Nuzzolese A.G., Peroni S., Vitali F. (2015) The Semantic Lancet Project: A Linked Open Dataset for Scholarly Publishing. In: Lambrix P. et al. (eds) Knowledge Engineering and Knowledge Management. EKAW 2014. Lecture Notes in Computer Science, vol 8982. Springer, Cham. https://doi.org/10.1007/978-3-319-17966-7_10.\n",
    " - Alexiou G., Vahdati S., Lange C., Papastefanatos G., Lohmann S. (2016) OpenAIRE LOD Services: Scholarly Communication Data as Linked Data. In: González-Beltrán A., Osborne F., Peroni S. (eds) Semantics, Analytics, Visualization. Enhancing Scholarly Data. SAVE-SD 2016. Lecture Notes in Computer Science, vol 9792. Springer, Cham. https://doi.org/10.1007/978-3-319-53637-8_6.\n",
    " - Heibi, I., Peroni, S. & Shotton, D. Software review: COCI, the OpenCitations Index of Crossref open DOI-to-DOI citations. Scientometrics 121, 1213–1228 (2019). https://doi.org/10.1007/s11192-019-03217-6.\n",
    "2. BIBLIOGRAPHY ON SIMILAR METHODOLOGY/WORKFLOW (BUT CAN HAVE DIFFERENT DOMAIN)\n",
    " - Zhu, J., Hu, G. & Liu, W. DOI errors and possible solutions for Web of Science. Scientometrics 118, 709–718 (2019). https://doi.org/10.1007/s11192-018-2980-7.\n",
    " - Boudry, C., Chartron, G. Availability of digital object identifiers in publications archived by PubMed. Scientometrics 110, 1453–1469 (2017). https://doi-org.ezproxy.unibo.it/10.1007/s11192-016-2225-6.\n",
    " - Fiorenzo Franceschini, Domenico Maisano, Luca Mastrogiacomo,\n",
    "Scientific journal publishers and omitted citations in bibliometric databases: Any relationship?, Journal of Informetrics, Volume 8, Issue 3, 2014, 751-765, ISSN 1751-1577, https://doi.org/10.1016/j.joi.2014.07.003.\n",
    " - Zhuoren Jiang and Xiaozhong Liu. 2013. Recovering missing citations in a scholarly network: a 2-step citation analysis to estimate publication importance. In Proceedings of the 13th ACM/IEEE-CS joint conference on Digital libraries (JCDL '13). Association for Computing Machinery, New York, NY, USA, 419–420. DOI:https://doi.org/10.1145/2467696.2467782.\n",
    " - B. Ian Hutchins,Kirk L. Baker,Matthew T. Davis,Mario A. Diwersy,Ehsanul Haque,Robert M. Harriman,Travis A. Hoppe,Stephen A. Leicht,Payam Meyer,George M. Santangelo, The NIH Open Citation Collection: A public access, broad coverage resource, Plos Biology, 2019, https://doi.org/10.1371/journal.pbio.3000385.\n",
    " - Nishioka C. and Farber M., Evaluating the Availability of Open Citation\n",
    "Data, Bibliometric-enhanced Information Retrieval and Natural Language Processing for Digital Libraries (2019), 2414: 123-129. http://hdl.handle.net/2433/244871.\n",
    " - PENTZ, Ed. CrossRef: The missing link. College & Research Libraries News, v. 62, n. 2, p. 206-228, feb. 2001. ISSN 2150-6698. Available at: https://crln.acrl.org/index.php/crlnews/article/view/22135/28119. doi: https://doi.org/10.5860/crln.62.2.206."
   ],
   "metadata": {
    "collapsed": false
   }
  },
  {
   "cell_type": "markdown",
   "source": [
    "## Crossref API Service querying and collegial discussion on further data management (11/04/2021 -- 13/04/2021) <a class=\"anchor\" id=\"entry_6\"></a>\n",
    "\n",
    "Meanwhile, we also started querying Crossref API service with some sample DOIs, so to be able to make some considerations about the amount and the quality of data we are going to extract information from. During this step, we realised that the two alternative ways we worked out to retrieve information about publisher given a DOI seem to be in contrast. In particular, we noticed that - starting from a same DOI - the publisher that could be traced back to from the firs six characters of the identifier was not the same retrievable from the response of the Crossref API request. For this reason, we decided to ask for clarifications before proceeding."
   ],
   "metadata": {
    "collapsed": false
   }
  },
  {
   "cell_type": "markdown",
   "source": [
    "## Preliminary studies on publications about protocols (11/04/2021 -- 13/04/2021) <a class=\"anchor\" id=\"entry_7\"></a>\n",
    "\n",
    "Before scratching our own protocol, we studied an exemplar protocol proposed at lesson (A methodology for gathering and annotating the raw-data/characteristics of the documents citing a retracted article V.1). In addition, we selected and analysed some further publications, both on protocols structuring in general and on our specific research topics in particular."
   ],
   "metadata": {
    "collapsed": false
   }
  },
  {
   "cell_type": "markdown",
   "source": [
    "## Protocol creation (13/04/2021) <a class=\"anchor\" id=\"entry_8\"></a>\n",
    "\n",
    "At this point, we concretely structured the protocol for our workflow. For a matter of computational order, we preferred to address first the third research question (i.e. the one related to the previously invalid DOIs which can nowadays be re-labelled as valid). In relation to this point, we discussed how to manage the invalid_dois.csv file after this step, and whether the citations with now valid cited DOIs were supposed to be included in the further steps of the research, where we plan to identify publishers of both citing and cited DOIs. In order to find an optimal balance between computational cost and preservation of information that could be potentially useful for further analysis based on data we are handling, we decided to discuss this aspect with the course Professor Silvio Peroni before proceeding.\n",
    "In the end, we decided to structure the protocol ([Investigating Invalid DOIs in COCI](https://www.protocols.io/view/investigating-invalid-dois-in-coci-bt5xnq7n)) in the following listed points:\n",
    "1.  \tReading CSV data\n",
    "2.  \tCreation of the output JSON file\n",
    "3.     Processing of each CSV file line and extraction of required information and differentiation of the further management of still invalid and now valid DOIs.\n",
    "4.  \tExtraction of data about publishers for both citing and cited articles from their DOIs and management of the case in which the first 6 characters are not a valid ID\n",
    "5.  \tReturn of the completed JSON file after processing all the lines\n",
    "Further, we contemplate the idea to add a further CSV file to store the retrieved information, to enable additional research on the produced material.\n",
    "For this week we kept working mostly collegially, since we agreed that everyone of us should have a broad comprehension of all the aspects of the workflow before splitting it more markedly in the next phases. However,  I especially worked on the preliminary phase of selection of relevant publications to create a well-documented protocol, and then I also focused on its effective implementation with Nooshin, in light of collegial consideration about the way in which the workflow steps could be divided."
   ],
   "metadata": {
    "collapsed": false
   }
  },
  {
   "cell_type": "markdown",
   "source": [
    "## DMP review (16/04/2021 -- 20/04/2021) <a class=\"anchor\" id=\"entry_9\"></a>\n",
    "\n",
    "Having to produce a review of the Data Management Plan carried out by Grasshoppers group on their research, I have read some relevant papers to better understand how to carry out and structure a review, and especially a review for this kind of publication. Selected resources are:\n",
    "1. Economic and Social Research Council, UKRI. (2019). Data management plan: Guidance for peer reviewers. https://esrc.ukri.org/files/about-us/policies-and-standards/data-management-plan-guidance-for-per-reviewers/\n",
    "2. Ross-Hellauer, T. (2017). What is open peer review? A systematic review. F1000Research, 6, 588. https://doi.org/10.12688/f1000research.11369.2\n",
    "3. The guidelines to assist reviewers in reviewing such scholarly resources provided by the International Semantic Web Conference series: https://iswc2021.semanticweb.org/resources-track.\n",
    "\n",
    "While the first one is specifically thought for producing appropriate reviews of Data Management Plans, the second one has been a useful resource to have a better understanding of what is an open peer review in the Open Science environment; and useful were also the several reviews provided with the article itself, which allowed me to have an idea about all the possible structures a review can have. The last one helped me to retrieve relevant topics to take into account in a review of a scholarly resource in general, regardless of the type of the resource itself.\n",
    "\n",
    "Finally, after writing the review, the final quality check of the review was carried out by using this resource as main guidelines: Reviewer’s rights and duties. (2019). https://open-sci.github.io/review/.\n",
    "The final review is available in Qeios: https://doi.org/10.32388/3V7ITH\n"
   ],
   "metadata": {
    "collapsed": false,
    "pycharm": {
     "name": "#%% md\n"
    }
   }
  }
 ],
 "metadata": {
  "kernelspec": {
   "display_name": "Python 3",
   "language": "python",
   "name": "python3"
  },
  "language_info": {
   "codemirror_mode": {
    "name": "ipython",
    "version": 2
   },
   "file_extension": ".py",
   "mimetype": "text/x-python",
   "name": "python",
   "nbconvert_exporter": "python",
   "pygments_lexer": "ipython2",
   "version": "2.7.6"
  }
 },
 "nbformat": 4,
 "nbformat_minor": 0
}
