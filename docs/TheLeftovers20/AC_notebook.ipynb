{
 "cells": [
  {
   "cell_type": "markdown",
   "metadata": {},
   "source": [
    "# Open Science Project Diary"
   ]
  },
  {
   "cell_type": "markdown",
   "metadata": {},
   "source": [
    "## Table of Contents\n",
    "\n",
    "1. [Getting to Know the Research Questions (25/03/2021)](#entry_1)\n",
    "2. [Writing the Abstract (30/03/2021)](#entry_2)\n",
    "3. [Creating the Project Management Plan (01/04/2021 -- 07/04/2021)](#entry_3)\n",
    "4. [Creating Jupyter Notebooks and Revising the DMP (10/04/2021)](#entry_4)\n",
    "5. [Bibliographic Research (11/04/2021 -- 13/04/2021)](#entry_5)\n",
    "6. [Crossref API Service querying and collegial discussion on further data management (13/04/2021)](#entry_6)\n",
    "7. [Protocol creation (13/04/2021)](#entry_7)\n",
    "8. [Writing a Review of a Protocol (15/04/2021 - 21/04/2021)](#entry_8)\n",
    "9. [Collective Discussion About Licenses to Be Adopted (21/04/2021)](#entry_9)"
    "10. [Protocol Reviews Analysis (23-24/04/2021)](#entry_10)"
    "11. [Flow Diagram Creation, preparing an answer to the review and Protocol Update (25/04/2021) ](#entry_11)"
    "12. [Looking at DMP reviews and DMp correction (27/04/2021)](#entry_12)"
   ]
  },
  {
   "cell_type": "markdown",
   "metadata": {},
   "source": [
    "## Getting to Know the Research Questions (25/03/2021) <a class=\"anchor\" id=\"entry_1\"></a>\n",
    "\n",
    "\n",
    "We studied the two offered research questions, and after discussing among ourselves in our WhatsApp group and with the other group, we chose to do the one about investigating the sources of the missing citations and the related publishers sending and receiving invalid citation data."
   ]
  },
  {
   "cell_type": "markdown",
   "metadata": {},
   "source": [
    "## Writing the Abstract (30/03/2021) <a class=\"anchor\" id=\"entry_2\"></a>\n",
    "\n",
    "After reviewing the slides and getting to know the OpenCitations project a little more, and learning the correct way to write a project abstract from [the guide from Emerald publishing offered in the course slides](https://www.emeraldgrouppublishing.com/how-to/authoring-editing-reviewing/write-article-abstract), we commenced writing the abstract for our project, which can be found [here](https://github.com/open-sci/2020-2021/blob/master/docs/TheLeftovers20/abstract.md). It was a challenging step, because we had to think about our project consciously and meticulously before having started getting our hands dirty."
   ]
  },
  {
   "cell_type": "markdown",
   "metadata": {},
   "source": [
    "## Creating the Project Management Plan (01/04/2021 -- 07/04/2021) <a class=\"anchor\" id=\"entry_3\"></a>\n",
    "\n",
    "During and after the class of 01/04/2021 (some of us were not present during the final hour because of a previously set exam) we created ORCID IDs for the group members. Afterwards, in the days preceding the lesson of the 8th, we created the Data Management Plan using the [OpenAIRE Argos Website](http://argos.openaire.eu/). We wrote the main explanations of the project all together in a group video call, and divided ourselves into two groups for inserting the data for each dataset. Nooshin and I put in the data for the dataset relating to the code (titled _Code for Missing Citations Analysis in COCI_). We all read some data on lesser-known fields to us such as licenses during the video call together.\n",
    "\n",
    "We then uploaded it to [Zenodo](https://zenodo.org/record/4671487) in PDF, JSON, and XML formats."
   ]
  },
  {
   "cell_type": "markdown",
   "metadata": {},
   "source": [
    "## Creating Jupyter Notebooks and Revising the DMP (10/04/2021) <a class=\"anchor\" id=\"entry_4\"></a>\n",
    "\n",
    "After the clarifications made in the 8 April class, we started our\n",
    "individual Jupyter Notebooks (almost identical up to this point since\n",
    " we did everything together, but not necessarily so in the future) in\n",
    "  a diary format and also we updated the FAIR part of the DMP based\n",
    "  on our new knowledge of the metadata solutions available in Zenodo. We\n",
    "  also divided in two groups to carry out two different tasks: the\n",
    "  bibliographic research (me and Sara) and the analysis of COCI software\n",
    "  (Arianna and Nooshin) in order to have a complete overview on what to\n",
    "  write in the protocol."
   ]
  },
  {
   "cell_type": "markdown",
   "metadata": {
    "pycharm": {
     "name": "#%% md\n"
    }
   },
   "source": [
    "## Bibliographic Research (11/04/2021 -- 13/04/2021) <a class=\"anchor\" id=\"entry_5\"></a>\n",
    "\n",
    "To better understand the methodology we will have to implement and the steps to follow, me and Sara looked for literature either about the same domain of COCI or regarding steps that we consider necessary to carry out the tasks of our project, even if applied to different domains.\n",
    "\n",
    "Also me and Sara divided two other tasks: Sara figured out a general way to answer to the questions of our research topic in order to understand which passages we will be supposed to do for our research. I tried to figure out, by looking at different protocols and to the article ‘Towards FAIR protocols and workflows: the OpenPREDICT use case’, which are the most relevant aspects that a good protocol shall figure out in order to be clear and effective.\n",
    "The most relevant steps I was able to carry out are:\n",
    "\n",
    "1. An introduction to the methodology with specification of the external services used by the methodology (if there is any) and a first draft of the passages which the methodology is composed of.\n",
    "2. a ‘before starting section’ with specification of the user requirements (first of all the programming language) for the reproducibility of our work and eventually common expressions and/or abbreviations.\n",
    "3. The core of the protocol: all the steps with title, sub-steps, description in natural language of the passages and better if accompanied by images or pieces of code to clarify them.\n",
    "4. Provide a schematic summarisation of the methodology. Among the all seen guidelines, the most effective seems to be the table form.\n",
    "\n",
    "The selected resources can be divided in two main groups:\n",
    "\n",
    "1. BIBLIOGRAPHY ON OPENCITATIONS AND SIMILAR PROJECTS\n",
    " - Martín-Martín, A., Thelwall, M., Orduna-Malea, E. et al. Google Scholar, Microsoft Academic, Scopus, Dimensions, Web of Science, and OpenCitations’ COCI: a multidisciplinary comparison of coverage via citations. Scientometrics 126, 871–906 (2021). https://doi.org/10.1007/s11192-020-03690-4.\n",
    " - Garcia A, Lopez F, Garcia L, Giraldo O, Bucheli V, Dumontier M. 2018. Biotea: semantics for Pubmed Central. PeerJ 6:e4201 https://doi.org/10.7717/peerj.4201.\n",
    " - Bagnacani A., Ciancarini P., Di Iorio A., Nuzzolese A.G., Peroni S., Vitali F. (2015) The Semantic Lancet Project: A Linked Open Dataset for Scholarly Publishing. In: Lambrix P. et al. (eds) Knowledge Engineering and Knowledge Management. EKAW 2014. Lecture Notes in Computer Science, vol 8982. Springer, Cham. https://doi.org/10.1007/978-3-319-17966-7_10.\n",
    " - Alexiou G., Vahdati S., Lange C., Papastefanatos G., Lohmann S. (2016) OpenAIRE LOD Services: Scholarly Communication Data as Linked Data. In: González-Beltrán A., Osborne F., Peroni S. (eds) Semantics, Analytics, Visualization. Enhancing Scholarly Data. SAVE-SD 2016. Lecture Notes in Computer Science, vol 9792. Springer, Cham. https://doi.org/10.1007/978-3-319-53637-8_6.\n",
    " - Heibi, I., Peroni, S. & Shotton, D. Software review: COCI, the OpenCitations Index of Crossref open DOI-to-DOI citations. Scientometrics 121, 1213–1228 (2019). https://doi.org/10.1007/s11192-019-03217-6.\n",
    "2. BIBLIOGRAPHY ON SIMILAR METHODOLOGY/WORKFLOW (BUT CAN HAVE DIFFERENT DOMAIN)\n",
    " - Zhu, J., Hu, G. & Liu, W. DOI errors and possible solutions for Web of Science. Scientometrics 118, 709–718 (2019). https://doi.org/10.1007/s11192-018-2980-7.\n",
    " - Boudry, C., Chartron, G. Availability of digital object identifiers in publications archived by PubMed. Scientometrics 110, 1453–1469 (2017). https://doi-org.ezproxy.unibo.it/10.1007/s11192-016-2225-6.\n",
    " - Fiorenzo Franceschini, Domenico Maisano, Luca Mastrogiacomo,\n",
    "Scientific journal publishers and omitted citations in bibliometric databases: Any relationship?, Journal of Informetrics, Volume 8, Issue 3, 2014, 751-765, ISSN 1751-1577, https://doi.org/10.1016/j.joi.2014.07.003.\n",
    " - Zhuoren Jiang and Xiaozhong Liu. 2013. Recovering missing citations in a scholarly network: a 2-step citation analysis to estimate publication importance. In Proceedings of the 13th ACM/IEEE-CS joint conference on Digital libraries (JCDL '13). Association for Computing Machinery, New York, NY, USA, 419–420. DOI:https://doi.org/10.1145/2467696.2467782.\n",
    " - B. Ian Hutchins,Kirk L. Baker,Matthew T. Davis,Mario A. Diwersy,Ehsanul Haque,Robert M. Harriman,Travis A. Hoppe,Stephen A. Leicht,Payam Meyer,George M. Santangelo, The NIH Open Citation Collection: A public access, broad coverage resource, Plos Biology, 2019, https://doi.org/10.1371/journal.pbio.3000385.\n",
    " - Nishioka C. and Farber M., Evaluating the Availability of Open Citation\n",
    "Data, Bibliometric-enhanced Information Retrieval and Natural Language Processing for Digital Libraries (2019), 2414: 123-129. http://hdl.handle.net/2433/244871.\n",
    " - PENTZ, Ed. CrossRef: The missing link. College & Research Libraries News, v. 62, n. 2, p. 206-228, feb. 2001. ISSN 2150-6698. Available at: https://crln.acrl.org/index.php/crlnews/article/view/22135/28119. doi: https://doi.org/10.5860/crln.62.2.206."
   ]
  },
  {
   "cell_type": "markdown",
   "source": [
    "## Crossref API Service querying and collegial discussion on further data management (13/04/2021) <a class=\"anchor\" id=\"entry_6\"></a>\n",
    "\n",
    "Meanwhile, we also started querying Crossref API service with some sample DOIs, so to be able to make some\n",
    "considerations about the amount and the quality of data we are going to extract information from.\n",
    "During this step, we realised that the two alternative ways we worked out to retrieve information about publisher given\n",
    "a DOI seem to be in contrast. In particular, we noticed that - starting from a same DOI -\n",
    "the publisher that could be traced back to from the firs six characters of the identifier was not the same retrievable\n",
    "from the response of the Crossref API request. For this reason, we decided to ask for clarifications before proceeding."
   ],
   "metadata": {
    "collapsed": false
   }
  },
  {
   "cell_type": "markdown",
   "source": [
    "## Protocol creation (13/04/2021) <a class=\"anchor\" id=\"entry_7\"></a>\n",
    "\n",
    "At this point, we concretely structured the protocol for our workflow. For a matter of computational order, we preferred\n",
    " to address first the third research question (i.e. the one related to the previously invalid DOIs which can nowadays be\n",
    "  re-labelled as valid). In relation to this point, we discussed how to manage the invalid_dois.csv file after this\n",
    "  step, and whether the citations with now valid cited DOIs were supposed to be included in the further steps of the\n",
    "  research, where we plan to identify publishers of both citing and cited DOIs. In order to find an optimal balance\n",
    "  between computational cost and preservation of information that could be potentially useful for further analysis based\n",
    "   on data we are handling, we decided to discuss this aspect with the course Professor Silvio Peroni before proceeding.\n",
    "In the end, we decided to structure the protocol (consultable here) in the following listed points:\n",
    "1. Reading CSV data;\n",
    "2. Creation of the output JSON file;\n",
    "3. Processing of each CSV file line and extraction of required information and differentiation of the further management of still invalid and now valid DOIs;\n",
    "4. Extraction of data about publishers for both citing and cited articles from their DOIs and management of the case in\n",
    "which the first 6 characters are not a valid ID;\n",
    "5. Return of the completed JSON file after processing all the lines.\n",
    "\n",
    "Further, we contemplate the idea to add a further CSV file to store the retrieved information, to enable additional research on the produced material.\n",
    "For this week we kept working mostly collegially, since we agreed that everyone of us should have a broad comprehension of all the aspects of the workflow before splitting it more markedly in the next phases."
   ],
   "metadata": {
    "collapsed": false
   }
  },
  {
   "cell_type": "markdown",
   "source": [
    "## Writing a Review of a Protocol (15/04/2021 - 21/04/2021) <a class=\"anchor\" id=\"entry_8\"></a>\n",
    "Since me and Arianna Moretti chose to review our colleagues protocol (\"Investigating DOIs' classes of errors\") and for\n",
    " both of us this was the first time we were writing such a review, we decided to meet and try to figure out together two main things:\n",
    "1. which are the main aspects to consider when reviewing a protocol;\n",
    "2. which are the main steps in writing a review.\n",
    "So we met twice. The first time (15/04/2021) we figured out which are the most relevant aspects of an open protocol and, more\n",
    "  generically, of an open work. In order to do so, we looked to two major references:\n",
    "1. the course slides, both the general part and the one dedicated to the protocols;\n",
    "2. the Plos section dedicated to reviewing protocols.\n",
    "So, in this first meeting we understood which were the aspects we should have looked at in our colleagues' protocol.\n",
    "Therefore, we decided that by the following meeting each of us should have read the protocol and tried to find out\n",
    "the relevant aspects to point out.\n",
    "\n",
    "Two days later we met again with a synthesis of the contents we wanted to highlight and discuss in our review.\n",
    "In a first moment we talked about the most relevant aspects which each of us had found, in order to see whether there\n",
    "was any relevant aspect that one of us may not have noticed or if we understood something wrongly.\n",
    "After this check, we pointed out some basic guidelines which would have allowed us to write a good review, on the basis\n",
    "of two main materials:\n",
    "1. the Ross-Hellauer's article \"What is open peer review? A systematic review.\";\n",
    "2. the slides of the lesson.\n",
    "\n",
    "After this last collective passage, we separately wrote the article and finally we published it on Qeios.\n",
    "\n",
    "### References:\n",
    "1. Ricarda Boente, Deniz Tural, Cristian Santini, Arcangelo Massari 2021. Investigating DOIs' classes of errors. protocols.io, https://dx.doi.org/10.17504/protocols.io.bt65nrg6, Version created by Arcangelo Massari\n",
    "2. Ivan Heibi, Silvio Peroni 2020. A methodology for gathering and annotating the raw-data/characteristics of the documents citing a retracted article. protocols.io https://dx.doi.org/10.17504/protocols.io.bdc4i2yw\n",
    "3. Ross-Hellauer, T. (2017). What is open peer review? A systematic review. F1000Research, 6, 588. https://doi.org/10.12688/f1000research.11369.2\n",
    "4. https://direct.mit.edu/qss/pages/submission-guidelines\n",
    "5. https://iswc2021.semanticweb.org/resources-track\n",
    "6. https://github.com/open-sci/2020-2021\n",
    "7. https://journals.plos.org/\n",
    "8. http://www.semantic-web-journal.net/reviewers"
   ],
   "metadata": {
    "collapsed": false
   }
  },
  {
   "cell_type": "markdown",
   "source": [
    "## Collective Discussion About Licenses to Be Adopted (21/04/2021)  <a class=\"anchor\" id=\"entry_9\"></a>\n",
    "For this task I looked at the documentations of some of the most used licenses including MIT and ISC. In the end I\n",
    "decided to propose these two to my colleagues, both because someone had already proposed them and also because they are\n",
    ", in my opinion, really clearly stated and well known licenses which would allow the best reuse of our data. Indeed,\n",
    "they allow a wide usage of the information without putting too many restrictions but at the same time it keeps into\n",
    "consideration the rights of the authors and of the people in the specific work under license. This last aspect is\n",
    "relevant to me since it is a notion which was taught in a previous course on digital Copyright. Indeed, there it was said\n",
    "that both the authorship is a relevant aspect in order to preserve the contents and avoid plagiarism, but at the same\n",
    "time licenses should be clear to all the potential users, even to the ones that are not used to the legal language."
   ],
   "metadata": {
    "collapsed": false
   }
  },
  {
   "cell_type": "markdown",
   "source": [
    "## Protocol Reviews Analysis (23-24/04/2021)  <a class=\"anchor\" id=\"entry_10\"></a>\n",
    "My group mates and I collectively read and analysed the reviews of our protocol\n",
    "([Review of: Investigating Invalid DOIs in COCI](https://doi.org/10.32388/WHWOI8) by Deniz Tural and\n",
    "[Review of: Investigating Invalid DOIs in COCI](https://doi.org/10.32388/X2DX81) by Arcangelo Massari). We tried to\n",
    "understand the received critics and suggestions, and then we discussed some possible ways to improve the quality of our\n",
    "original protocol.\n",
    "In order to formalise our opinion about our colleagues’ advice, we separately answered both reviews point by point, and\n",
    "then we tried to summarise the answers to the repeated suggestions."
   ],
   "metadata": {
    "collapsed": false
   }
  },
  {
   "cell_type": "markdown",
   "source": [
    "## Flow Diagram Creation, preparing an answer to the review and Protocol Update (25/04/2021)  <a class=\"anchor\" id=\"entry_11\"></a>\n",
    "In accordance with the content of the material collected during the reviews’ analysis, we decided to refine both our\n",
    "protocol and – consequently – the steps planned for our software development. In order to define the passages in a\n",
    "detailed and unequivocal way, we created a flow diagram in draw.io, where we explained step-by-step the process from the\n",
    " input to the output material.\n",
    "In the creation of the diagram, we realised the necessity to make some further research about the mechanism to retrieve\n",
    "the publishers’ identifiers. At the end of this phase, we confirmed our decision of opting for a Crossref request,\n",
    "exploiting this base url : https://api.crossref.org/prefixes/  + the first six digits of the doi of the publication of\n",
    "which we are trying to identify the publisher (e.g.: 10.1161).\n",
    "\n",
    "This response is particularly useful for our purposes, since it provides both information about the publisher’s name and\n",
    " a confirmation of the validity of its code, i.e.: the identifier composed by the first six digits of the doi of the publication.\n",
    "Once the diagram was completed, we planned and realised the next update of our protocol. However, we all agreed it could\n",
    "not be the final version of the protocol itself, since we are planning to improve it after the finalization of the code."
   ],
   "metadata": {
    "collapsed": false
   }
  },
  {
   "cell_type": "markdown",
   "source": [
    "## Looking at DMP reviews and DMp correction (27/04/2021)  <a class=\"anchor\" id=\"entry_12\"></a>\n",
    "Once finished with the stuff of the Protocol we switched to the reviews about our DMP. \n"
   ],
   "metadata": {
    "collapsed": false
   }
  }
 ],
 "metadata": {
  "kernelspec": {
   "display_name": "three_six",
   "language": "python",
   "name": "three_six"
  },
  "language_info": {
   "codemirror_mode": {
    "name": "ipython",
    "version": 3
   },
   "file_extension": ".py",
   "mimetype": "text/x-python",
   "name": "python",
   "nbconvert_exporter": "python",
   "pygments_lexer": "ipython3",
   "version": "3.6.7"
  }
 },
 "nbformat": 4,
 "nbformat_minor": 2
}
