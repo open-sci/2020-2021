{
 "cells": [
  {
   "cell_type": "markdown",
   "metadata": {},
   "source": [
    "# Open Science Project Diary"
   ]
  },
  {
   "cell_type": "markdown",
   "metadata": {},
   "source": [
    "## Table of Contents\n",
    "\n",
    "1. [Getting to Know the Research Questions (25/03/2021)](#entry_1)\n",
    "2. [Writing the Abstract (30/03/2021)](#entry_2)\n",
    "3. [Creating the Project Management Plan (01/04/2021 -- 07/04/2021)](#entry_3)\n",
    "4. [Creating Jupyter Notebooks and Revising the DMP (10/04/2021)](#entry_4)\n",
    "5. [Open Citations infrastructure preliminary study (11/04/2021 - 14/04/2021)](#entry_5)\n",
    "6. [Crossref API Service Querying and Collective Discussion on Further Data Management (11/04/2021 - 14/04/2021)](#entry_6)\n",
    "7. [Preliminary Studies for the Publication of our Protocol (11/04/2021 - 14/04/2021)](#entry_7)\n",
    "8. [Structuring The Protocol (12/04/2021 - 14/04/2021)](#entry_8)\n",
    "9. [Writing a Review of a Protocol (15/04/2021 - 21/04/2021)](#entry_9)\n",
    "10. [Collective Discussion about Licenses to be adopted (21/04/2021)](#entry_10)\n",
    "11. [Protocol Reviews Analysis (23/04/2021 - 28/04/2021)](#entry_11)\n",
    "12. [Flow Diagram Creation and Protocol Update (23/04/2021 - 28/04/2021)](#entry_12)\n",
    "13. [Data Management Plan Update (23/04/2021 - 28/04/2021)](#entry_13)\n",
    "13. [Reviews’ Answers (23/04/2021 - 28/04/2021)](#entry_14)"
   ]
  },
  {
   "cell_type": "markdown",
   "metadata": {},
   "source": [
    "## Getting to Know the Research Questions (25/03/2021) <a class=\"anchor\" id=\"entry_1\"></a>\n",
    "\n",
    "\n",
    "We studied the two offered research questions, and after discussing among ourselves in our WhatsApp group and with the other group, we chose to do the one about investigating the sources of the missing citations and the related publishers sending and receiving invalid citation data."
   ]
  },
  {
   "cell_type": "markdown",
   "metadata": {},
   "source": [
    "## Writing the Abstract (30/03/2021) <a class=\"anchor\" id=\"entry_2\"></a>\n",
    "\n",
    "After reviewing the slides and getting to know the OpenCitations project a little more, and learning the correct way to write a project abstract from [the guide from Emerald publishing offered in the course slides](https://www.emeraldgrouppublishing.com/how-to/authoring-editing-reviewing/write-article-abstract), we commenced writing the abstract for our project, which can be found [here](https://github.com/open-sci/2020-2021/blob/master/docs/TheLeftovers20/abstract.md). It was a challenging step, because we had to think about our project consciously and meticulously before having started getting our hands dirty."
   ]
  },
  {
   "cell_type": "markdown",
   "metadata": {},
   "source": [
    "## Creating the Project Management Plan (01/04/2021 -- 07/04/2021) <a class=\"anchor\" id=\"entry_3\"></a>\n",
    "\n",
    "During and after the class of 01/04/2021 (some of us were not present during the final hour because of a previously set exam) we created ORCID IDs for the group members. Afterwards, in the days preceding the lesson of the 8th, we created the Data Management Plan using the [OpenAIRE Argos Website](http://argos.openaire.eu/). We wrote the main explanations of the project all together in a group video call, and divided ourselves into two groups for inserting the data for each dataset. Sara and I put in the data for the dataset relating to the output data (titled _Missing Citations in COCI_). We all read some data on lesser-known fields to us such as licenses during the video call together.\n",
    "\n",
    "We then uploaded it to [Zenodo](https://zenodo.org/record/4671487) in PDF, JSON, and XML formats.\n"
   ]
  },
  {
   "cell_type": "markdown",
   "metadata": {},
   "source": [
    "## Creating Jupyter Notebooks and Revising the DMP (10/04/2021) <a class=\"anchor\" id=\"entry_4\"></a>\n",
    "\n",
    "After the clarifications made in the 8 April class, we started our individual Jupyter Notebooks (almost identical up to this point since we did everything together, but not necessarily so in the future) in a diary format and also we updated the FAIR part of the DMP based on our new knowledge of the metadata solutions available in Zenodo."
   ]
  },
  {
   "cell_type": "markdown",
   "metadata": {},
   "source": [
    "## Open Citations infrastructure preliminary study (11/04/2021 - 14/04/2021) <a class=\"anchor\" id=\"entry_5\"></a>\n",
    "Before proceeding with the creation of a protocol for our project, we analysed accurately the structure of OpenCitations software, so to make sure to have properly understood the way in which data from Crossref are managed in COCI at code level.  "
   ]
  },
  {
   "cell_type": "markdown",
   "metadata": {},
   "source": [
    "## Crossref API Service Querying and Collective Discussion on Further Data Management (11/04/2021 - 14/04/2021) <a class=\"anchor\" id=\"entry_6\"></a>\n",
    "Meanwhile, we also started querying Crossref API service with some sample DOIs, so to be able to make some considerations about the amount and the quality of the data we are going to extract information from. During this step, we realised that the two alternative ways we worked out to retrieve information about publisher given a DOI seem to be in contrast. In particular, we noticed that - starting from a same DOI - the publisher that could be traced back to from the firs six characters of the identifier was not the same retrievable from the response of the Crossref API request. For this reason, we decided to ask for clarifications before proceeding."
   ]
  },
  {
   "cell_type": "markdown",
   "metadata": {},
   "source": [
    "## Preliminary Studies for the Publication of our Protocol (11/04/2021 - 14/04/2021) <a class=\"anchor\" id=\"entry_7\"></a>\n",
    "Before scratching our own protocol, we studied an exemplar protocol proposed at lesson (<a href= https://www.protocols.io/view/a-methodology-for-gathering-and-annotating-the-raw-bdc4i2yw.html> A methodology for gathering and annotating the raw-data/characteristics of the documents citing a retracted article V.1 </a>). In addition, we selected and analysed some further publications, both on protocols structuring in general and on our specific research topics in particular.\n",
    "<ul>\n",
    "    <li><a href=\"https://link.springer.com/article/10.1007/s11192-020-03690-4\">Google Scholar, Microsoft Academic, Scopus, Dimensions, Web of Science, and OpenCitations’ COCI: a multidisciplinary comparison of coverage via citations</a></li>\n",
    "    <li><a href=\"https://link.springer.com/article/10.1007/s11192-019-03217-6\">Software review: COCI, the OpenCitations Index of Crossref open DOI-to-DOI citations</a></li>\n",
    "    <li><a href=\"https://peerj.com/articles/4201/\">Biotea: semantics for Pubmed Central</a></li>\n",
    "    <li><a href=\"https://link-springer-com.ezproxy.unibo.it/content/pdf/10.1007/s11192-018-2980-7.pdf\">DOI errors and possible solutions for Web of Science</a></li>\n",
    "    <li><a href=\"https://www-sciencedirect-com.ezproxy.unibo.it/science/article/pii/S1751157714000637\">Scientific journal publishers and omitted citations in bibliometric databases: Any relationship?</a></li>\n",
    "</ul>"
   ]
  },
  {
   "cell_type": "markdown",
   "metadata": {},
   "source": [
    "## Structuring The Protocol (12/04/2021 - 14/04/2021) <a class=\"anchor\" id=\"entry_8\"></a>\n",
    "At this point, we concretely structured the protocol for our workflow. For a matter of computational order, we preferred to address first the third research question (i.e. the one related to the previously invalid DOIs which can nowadays be re-labelled as valid). In relation to this point, we discussed how to manage the invalid_dois.csv file after this step, and whether the citations with now valid cited DOIs were supposed to be included in the further steps of the research, where we plan to identify publishers of both citing and cited DOIs. In order to find an optimal balance between computational cost and preservation of information that could be potentially useful for further analysis based on data we are handling, we decided to discuss this aspect with the course Professor Silvio Peroni before proceeding.\n",
    "\n",
    "For this week we kept working mostly collegially, since we agreed that everyone of us should have a broad comprehension of all the aspects of the workflow before splitting it more markedly in the next phases. However, after OpenCitations code analysis and some general tests on Crossref API service, Alessia and I mainly focused on the revision of the way we planned to implement research questions in light of some considerations arisen during our group meetings.\n"
   ]
  },
  {
   "cell_type": "markdown",
   "metadata": {},
   "source": [
    "## Writing a Review of a Protocol (15/04/2021 - 21/04/2021) <a class=\"anchor\" id=\"entry_9\"></a>\n",
    "\n",
    "# References:\n",
    "<li>Ricarda Boente, Deniz Tural, Cristian Santini, Arcangelo Massari 2021. Investigating DOIs' classes of errors. protocols.io, https://dx.doi.org/10.17504/protocols.io.bt65nrg6, Version created by Arcangelo Massari </li>\n",
    "<li>Ivan Heibi, Silvio Peroni 2020. A methodology for gathering and annotating the raw-data/characteristics of the documents citing a retracted article. protocols.io https://dx.doi.org/10.17504/protocols.io.bdc4i2yw</li>\n",
    "<li>Ross-Hellauer, T. (2017). What is open peer review? A systematic review. F1000Research, 6, 588. https://doi.org/10.12688/f1000research.11369.2 </li>\n",
    "\n",
    "<li>https://direct.mit.edu/qss/pages/submission-guidelines</li>\n",
    "<li>https://iswc2021.semanticweb.org/resources-track </li>\n",
    "<li>https://github.com/open-sci/2020-2021</li>\n",
    "<li>https://journals.plos.org/ </li>\n",
    "<li>http://www.semantic-web-journal.net/reviewers</li>\n",
    "\n"
   ]
  },
  {
   "cell_type": "markdown",
   "metadata": {},
   "source": [
    "## Collective Discussion About Licenses to Be Adopted (21/04/2021) <a class=\"anchor\" id=\"entry_10\"></a>\n",
    "I studied advantages and disadvantages of each license and then selected the most suitable two, according to my knowledge and personal opinion. \n",
    "\n",
    "Then, I gave my opinion commenting the <a href =\"https://github.com/open-sci/2020-2021/issues/11\">GitHub issue Choosing the software license for the main repository </a> as follow: \n",
    "\n",
    "As my colleagues proposed, I'd suggest to choose a license which is as clear and concise as possible, while staying permissive too. Since ISC and MIT are very close for their purposes and their differences don't seem to be so relevant in their factual application, I'd personally choose ISC because it is expressed with unequivocal language and therefore it can be understood by anyone, also with none or a very limited knowledge of the undelying legal background.\n",
    "However, MIT license makes explicit mention of sublicensing too, while ISC doesn't. Further, the slightly more complex structure of MIT could - to some extent - also facilitate the resolution of some doubts that could araise in particular circumstances.\n",
    "For these reasons, even if I personally prefer ISC license, I totally agree to adopt also MIT."
   ]
  },
  {
   "cell_type": "markdown",
   "metadata": {},
   "source": [
    "## Protocol Reviews Analysis (23/04/2021 - 28/04/2021)  <a class=\"anchor\" id=\"entry_11\"></a>\n",
    "\n",
    "My group mates and I collectively read and analysed the reviews of our protocol by Deniz Tural and Arcangelo Massari (<a href=\"https://doi.org/10.32388/WHWOI8\">Review of: Investigating Invalid DOIs in COCI v1 by Deniz Tural</a> , <a href=\"https://doi.org/10.32388/X2DX81\">Review of: Investigating Invalid DOIs in COCI v1 by Arcangelo Massari</a>) . We tried to understand the received critics and suggestions, and then we discussed some possible ways to improve the quality of our original protocol.\n",
    "In order to formalise our opinion about our colleagues’ advice, we separately answered both reviews point by point, and then we tried to summarise the answers to the repeated suggestions.\n",
    "\n",
    "### References:\n",
    "1) Deniz Tural. (2021). Review of: \"Investigating Invalid DOIs in COCI v1 (protocols.io.bt5xnq7n)\". Qeios. doi:10.32388/WHWOI8.\n",
    "2) Arcangelo Massari. (2021). Review of: \"Investigating Invalid DOIs in COCI\". Qeios. doi:10.32388/X2DX81."
   ]
  },
  {
   "cell_type": "markdown",
   "metadata": {},
   "source": [
    "## Flow Diagram Creation and Protocol Update (23/04/2021 - 28/04/2021)  <a class=\"anchor\" id=\"entry_12\"></a>\n",
    "\n",
    "In accordance with the content of the material collected during the reviews’ analysis, we decided to refine both our protocol and – consequently – the steps planned for our software development. In order to define the passages in a detailed and unequivocal way, we created a flow diagram in draw.io, where we explained step-by-step the process from the input to the output material.\n",
    "In the creation of the diagram, we realised the necessity to make some further research about the mechanism to retrieve the publishers’ identifiers. At the end of this phase, we confirmed our decision of opting for a Crossref request, exploiting this base url : <a href =\"https://api.crossref.org/prefixes/\"> https://api.crossref.org/prefixes/</a>  + the first six digits of the doi of the publication of which we are trying to identify the publisher (e.g.: 10.1161).  \n",
    "\n",
    "Example:\n",
    "{\"status\":\"ok\",\"message-type\":\"prefix\",\"message-version\":\"1.0.0\",\"message\":{\"member\":\"http:\\/\\/id.crossref.org\\/member\\/276\",\"name\":\"Ovid Technologies (Wolters Kluwer Health)\",\"prefix\":\"http:\\/\\/id.crossref.org\\/prefix\\/10.1161\"}}\n",
    "\n",
    "This response is particularly useful for our purposes, since it provides both information about the publisher’s name and a confirmation of the validity of its code, i.e.: the identifier composed by the first six digits of the doi of the publication.\n",
    "Once the diagram was completed, we planned and realised the next update of our protocol. However, we all agreed it could not be the final version of the protocol itself, since we are planning to improve it after the finalization of the code."
   ]
  },
  {
   "cell_type": "markdown",
   "metadata": {},
   "source": [
    "## Data Management Plan Update (23/04/2021 - 28/04/2021) <a class=\"anchor\" id=\"entry_13\"></a>\n",
    "Separately, we started the same process (i.e.: reviews’ analysis, discussion, and answer, together with our material’s correction and update) for what concerns the DMP.\n",
    "\n",
    "Also in this case, we collectively analysed the received reviews (i.e.: <a href=\"https://doi.org/10.32388/DIA06O\"> Review of: Investigating Missing Citations in COCI (1.0) by Cristian Santini </a>, <a href=\"https://doi.org/10.32388/T0UF3H\"> Review of: DMP Investigating Missing Citations in COCI (zenodo.4671487) by Ricarda Boente</a>) and tried to take decisions which could represent a balance between the proposed suggestions and the will of all the Leftovers 2.0 members. \n",
    "\n",
    "### References\n",
    "1) Cristian Santini. (2021). Review of: \"Investigating Missing Citations in COCI (1.0)\". Qeios. doi:10.32388/DIA06O.\n",
    "2) Ricarda Boente. (2021). Review of: \"DMP Investigating Missing Citations in COCI (zenodo.4671487)\". Qeios. doi:10.32388/T0UF3H.\n"
   ]
  },
  {
   "cell_type": "markdown",
   "metadata": {},
   "source": [
    "## Reviews’ Answers (23/04/2021 - 28/04/2021)  <a class=\"anchor\" id=\"entry_14\"></a>\n",
    "With the material collected in the previous phases of our workflow, we answered the received reviews of our protocol, pointing out where we accepted the suggestions and where we had to reject them. In both cases, we tried to motivate our decisions.\n"
   ]
  },
  {
   "cell_type": "code",
   "execution_count": null,
   "metadata": {},
   "outputs": [],
   "source": []
  }
 ],
 "metadata": {
  "kernelspec": {
   "display_name": "Python 3",
   "language": "python",
   "name": "python3"
  },
  "language_info": {
   "codemirror_mode": {
    "name": "ipython",
    "version": 3
   },
   "file_extension": ".py",
   "mimetype": "text/x-python",
   "name": "python",
   "nbconvert_exporter": "python",
   "pygments_lexer": "ipython3",
   "version": "3.6.3"
  }
 },
 "nbformat": 4,
 "nbformat_minor": 2
}
