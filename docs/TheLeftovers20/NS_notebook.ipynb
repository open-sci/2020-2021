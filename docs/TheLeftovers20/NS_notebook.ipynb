{
 "cells": [
  {
   "cell_type": "markdown",
   "metadata": {},
   "source": [
    "# Open Science Project Diary"
   ]
  },
  {
   "cell_type": "markdown",
   "metadata": {},
   "source": [
    "## Table of Contents\n",
    "\n",
    "1. [Getting to Know the Research Questions (25/03/2021)](#entry_1)\n",
    "2. [Writing the Abstract (30/03/2021)](#entry_2)\n",
    "3. [Creating the Project Management Plan (01/04/2021 -- 07/04/2021)](#entry_3)\n",
    "4. [Creating Jupyter Notebooks and Revising the DMP (10/04/2021)](#entry_4)"
   ]
  },
  {
   "cell_type": "markdown",
   "metadata": {},
   "source": [
    "## Getting to Know the Research Questions (25/03/2021) <a class=\"anchor\" id=\"entry_1\"></a>\n",
    "\n",
    "We studied the two offered research questions, and after discussing among ourselves in our WhatsApp group and with the other group, we chose to do the one about investigating the sources of the missing citations and the related publishers sending and receiving invalid citation data."
   ]
  },
  {
   "cell_type": "markdown",
   "metadata": {},
   "source": [
    "## Writing the Abstract (30/03/2021) <a class=\"anchor\" id=\"entry_2\"></a>\n",
    "\n",
    "After reviewing the slides and getting to know the OpenCitations project a little more, and learning the correct way to write a project abstract from [the guide from Emerald publishing offered in the course slides](https://www.emeraldgrouppublishing.com/how-to/authoring-editing-reviewing/write-article-abstract), we commenced writing the abstract for our project, which can be found [here](https://github.com/open-sci/2020-2021/blob/master/docs/TheLeftovers20/abstract.md). It was a challenging step, because we had to think about our project consciously and meticulously before having started getting our hands dirty."
   ]
  },
  {
   "cell_type": "markdown",
   "metadata": {},
   "source": [
    "## Creating the Project Management Plan (01/04/2021 -- 07/04/2021) <a class=\"anchor\" id=\"entry_3\"></a>\n",
    "\n",
    "During and after the class of 01/04/2021 (some of us were not present during the final hour because of a previously set exam) we created ORCID IDs for the group members. Afterwards, in the days preceding the lesson of the 8th, we created the Data Management Plan using the [OpenAIRE Argos Website](http://argos.openaire.eu/). We wrote the main explanations of the project all together in a group video call, and divided ourselves into two groups for inserting the data for each dataset. Alessia and I put in the data for the dataset relating to the code (titled _Code for Missing Citations Analysis in COCI_). We all read some data on lesser-known fields to us such as licenses during the video call together.\n",
    "\n",
    "We then uploaded it to [Zenodo](https://zenodo.org/record/4671487) in PDF, JSON, and XML formats.\n"
   ]
  },
  {
   "cell_type": "markdown",
   "metadata": {},
   "source": [
    "## Creating Jupyter Notebooks and Revising the DMP (10/04/2021) <a class=\"anchor\" id=\"entry_4\"></a>\n",
    "\n",
    "After the clarifications made in the 8 April class, we started our individual Jupyter Notebooks (almost identical up to this point since we did everything together, but not necessarily so in the future) in a diary format and also we updated the FAIR part of the DMP based on our new knowledge of the metadata solutions available in Zenodo."
   ]
  },
  {
   "cell_type": "code",
   "execution_count": null,
   "metadata": {},
   "outputs": [],
   "source": []
  }
 ],
 "metadata": {
  "kernelspec": {
   "display_name": "three_six",
   "language": "python",
   "name": "three_six"
  },
  "language_info": {
   "codemirror_mode": {
    "name": "ipython",
    "version": 3
   },
   "file_extension": ".py",
   "mimetype": "text/x-python",
   "name": "python",
   "nbconvert_exporter": "python",
   "pygments_lexer": "ipython3",
   "version": "3.6.7"
  }
 },
 "nbformat": 4,
 "nbformat_minor": 2
}
