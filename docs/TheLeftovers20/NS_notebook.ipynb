{
 "cells": [
  {
   "cell_type": "markdown",
   "metadata": {},
   "source": [
    "# Open Science Project Diary"
   ]
  },
  {
   "cell_type": "markdown",
   "metadata": {},
   "source": [
    "## Table of Contents\n",
    "\n",
    "1. [Getting to Know the Research Questions (25/03/2021)](#entry_1)\n",
    "2. [Writing the Abstract (30/03/2021)](#entry_2)\n",
    "3. [Creating the Project Management Plan (01/04/2021 -- 07/04/2021)](#entry_3)\n",
    "4. [Creating Jupyter Notebooks and Revising the DMP (10/04/2021)](#entry_4)\n",
    "5. [Reading on COCI and DOI Endpoints, Protocol Scratch (12/04/2021)](#entry_5)\n",
    "6. [Working on Crossref API and Publisher Prefixes (13/04/2021-15/04/2021)](#entry_6)\n",
    "7. [Writing a Review for the DMP of the Grasshoppers (15/04/2021-21/04/2021)](#entry_7)\n",
    "8. [Writing the First Version of the Code (22/04/2021-25/04/2021)](#entry_8)\n",
    "9. [Correcting the DMP Based on the Grasshoppers Suggestions (23/04/2021-28/04/2021)](#entry_9)\n",
    "10. [Fixing Code Bugs and Letting it Gather Data (26/04/2021-02/05/2021)](#entry_10)\n",
    "11. [Writing the Article (30/04/2021-03/05/2021) ](#entry_11)\n",
    "12. [Working on the Presentation (03/05/2021-05/05/2021)](#entry_12)\n",
    "13. [Adding API Check for DataCite and mEDRA (08/06/2021-12/06/2021)](#entry_13)\n",
    "14. [Adding Input Parameters for Filenames and Cache Checkpoint (03/07/2021)](#entry_14)\n",
    "15. [Writing the README and Correcting the Article (03/07/2021-04/07/2021)](#entry_15)\n",
    "16. [Finalizing the Edits (05/07/2021)](#entry_16)"
   ]
  },
  {
   "cell_type": "markdown",
   "metadata": {},
   "source": [
    "## Getting to Know the Research Questions (25/03/2021) <a class=\"anchor\" id=\"entry_1\"></a>\n",
    "\n",
    "We studied the two offered research questions, and after discussing among ourselves in our WhatsApp group and with the other group, we chose to do the one about investigating the sources of the missing citations and the related publishers sending and receiving invalid citation data."
   ]
  },
  {
   "cell_type": "markdown",
   "metadata": {},
   "source": [
    "## Writing the Abstract (30/03/2021) <a class=\"anchor\" id=\"entry_2\"></a>\n",
    "\n",
    "After reviewing the slides and getting to know the OpenCitations project a little more, and learning the correct way to write a project abstract from [the guide from Emerald publishing offered in the course slides](https://www.emeraldgrouppublishing.com/how-to/authoring-editing-reviewing/write-article-abstract), we commenced writing the abstract for our project, which can be found [here](https://github.com/open-sci/2020-2021/blob/master/docs/TheLeftovers20/abstract.md). It was a challenging step, because we had to think about our project consciously and meticulously before having started getting our hands dirty."
   ]
  },
  {
   "cell_type": "markdown",
   "metadata": {},
   "source": [
    "## Creating the Project Management Plan (01/04/2021 -- 07/04/2021) <a class=\"anchor\" id=\"entry_3\"></a>\n",
    "\n",
    "During and after the class of 01/04/2021 (some of us were not present during the final hour because of a previously set exam) we created ORCID IDs for the group members. Afterwards, in the days preceding the lesson of the 8th, we created the Data Management Plan using the [OpenAIRE Argos Website](http://argos.openaire.eu/). We wrote the main explanations of the project all together in a group video call, and divided ourselves into two groups for inserting the data for each dataset. Alessia and I put in the data for the dataset relating to the code (titled _Code for Missing Citations Analysis in COCI_). We all read some data on lesser-known fields to us such as licenses during the video call together.\n",
    "\n",
    "We then uploaded it to [Zenodo](https://zenodo.org/record/4671487) in PDF, JSON, and XML formats.\n"
   ]
  },
  {
   "cell_type": "markdown",
   "metadata": {},
   "source": [
    "## Creating Jupyter Notebooks and Revising the DMP (10/04/2021) <a class=\"anchor\" id=\"entry_4\"></a>\n",
    "\n",
    "After the clarifications made in the 8 April class, we started our individual Jupyter Notebooks (almost identical up to this point since we did everything together, but not necessarily so in the future) in a diary format and also we updated the FAIR part of the DMP based on our new knowledge of the metadata solutions available in Zenodo."
   ]
  },
  {
   "cell_type": "markdown",
   "metadata": {},
   "source": [
    "## Reading on COCI and DOI Endpoints, Protocol Scratch (12/04/2021) <a class=\"anchor\" id=\"entry_5\"></a>\n",
    "\n",
    "In order to be able to write the protocol, I read on the structure of 1) the CSV of the invalid citations, 2) the REST API for COCI, 3) the REST API for DOIs, and 4) the REST API for CrossRef. I tested some queries using Postman to better understand. I also created a scratch file for the Protocol."
   ]
  },
  {
   "cell_type": "markdown",
   "metadata": {},
   "source": [
    "## Working on Crossref API and Publisher Prefixes  (13/04/2021-15/04/2021) <a class=\"anchor\" id=\"entry_6\"></a>\n",
    "\n",
    "To find the publishers we needed to find a less memory-consuming way of sending requests to Crossref. After days of reading into different ways of accomplishing this, I found the prefixes API that would work for publisher prefixes."
   ]
  },
  {
   "cell_type": "markdown",
   "metadata": {},
   "source": [
    "## Writing a Review for the DMP of the Grasshoppers  (15/04/2021-21/04/2021) <a class=\"anchor\" id=\"entry_7\"></a>\n",
    "\n",
    "As an assignment we had two write two reviews on the Grasshoppers' DMP. In order to do this, I studied various peer reviews and guidelines to review DMP and based on those wrote and published a review for the DMP. This helped us find out problems witho our own DMP as well."
   ]
  },
  {
   "cell_type": "markdown",
   "metadata": {},
   "source": [
    "## Writing the First Version of the Code  (22/04/2021-25/04/2021) <a class=\"anchor\" id=\"entry_8\"></a>\n",
    "\n",
    "Using the information I had gained from the previous levels and the help from Arianna using her diagrams, I wrote the beta version of our code in Python. There were problems with caching."
   ]
  },
  {
   "cell_type": "markdown",
   "metadata": {},
   "source": [
    "## Correcting the DMP Based on the Grasshoppers Suggestions  (23/04/2021-28/04/2021) <a class=\"anchor\" id=\"entry_9\"></a>\n",
    "\n",
    "I worked on Ricarda Boente's review and corrected our DMP based on her suggestions. I also wrote the related part on the rebuttal letter for the review."
   ]
  },
  {
   "cell_type": "markdown",
   "metadata": {},
   "source": [
    "## Fixing Code Bugs and Letting it Gather Data  (26/04/2021-02/05/2021) <a class=\"anchor\" id=\"entry_10\"></a>\n",
    "\n",
    "I wrote proper caching for the code, fixed the bugs found by my teammates, and let the code run for a while. In the end we processed more than 160,000 lines of data. I had some failed attempts at multiprocessing the code."
   ]
  },
  {
   "cell_type": "markdown",
   "metadata": {},
   "source": [
    "## Writing the Article (30/04/2021-03/05/2021) <a class=\"anchor\" id=\"entry_11\"></a>\n",
    "\n",
    "Together with all my teammates, we wrote the article for the assignment. I mostly wrote the abstract, the discussion, and the results part and copy edited some parts."
   ]
  },
  {
   "cell_type": "markdown",
   "metadata": {},
   "source": [
    "## Working on the Presentation (03/05/2021-05/05/2021) <a class=\"anchor\" id=\"entry_12\"></a>\n",
    "\n",
    "I wrote 4 slides on the presentation in regard to the code and the in-depth parts of it, explaining how we worked on the APIs."
   ]
  },
  {
   "cell_type": "markdown",
   "metadata": {},
   "source": [
    "## Adding API Check for DataCite and mEDRA (08/06/2021-12/06/2021) <a class=\"anchor\" id=\"entry_13\"></a>\n",
    "\n",
    "I studied the websites and documentations for all other DOI registration agencies to try and find an API service. I managed to find working services for only DataCite and mEDRA. mEDRA worked with an XML-based service and so I had to write different code this time. I added an extra level of check for publishers unrecognized by Crossref. "
   ]
  },
  {
   "cell_type": "markdown",
   "metadata": {},
   "source": [
    "## Adding Input Parameters for Filenames and Cache Checkpoint (03/07/2021) <a class=\"anchor\" id=\"entry_14\"></a>\n",
    "\n",
    "I set up the code, based on what Arianna had already done, to take in arguements from the command line to set the input and output filenames and the number of lines to process before caching."
   ]
  },
  {
   "cell_type": "markdown",
   "metadata": {},
   "source": [
    "## Writing the README and Correcting the Article (03/07/2021-04/07/2021) <a class=\"anchor\" id=\"entry_15\"></a>\n",
    "\n",
    "I added information on the project and how to run it to the README file and also added and edited the parts relating to my work on the article."
   ]
  },
  {
   "cell_type": "markdown",
   "metadata": {},
   "source": [
    "## Finalizing the Edits (05/07/2021) <a class=\"anchor\" id=\"entry_16\"></a>\n",
    "\n",
    "Today the other members of the group and me finalised the tasks required in order to enhance the project and delivered the definitive materials. First of all we have finalised and published the DMP, then we checked and published the code and the protocol, and finally we updated the article with the definitive links to our materials and with the bibliography. As last we published the article and delivered the final project by closing the issue on GitHub."
   ]
  }
 ],
 "metadata": {
  "kernelspec": {
   "display_name": "three_six",
   "language": "python",
   "name": "three_six"
  },
  "language_info": {
   "codemirror_mode": {
    "name": "ipython",
    "version": 3
   },
   "file_extension": ".py",
   "mimetype": "text/x-python",
   "name": "python",
   "nbconvert_exporter": "python",
   "pygments_lexer": "ipython3",
   "version": "3.6.7"
  }
 },
 "nbformat": 4,
 "nbformat_minor": 2
}
